{
 "cells": [
  {
   "cell_type": "markdown",
   "id": "eb0e18d4",
   "metadata": {},
   "source": [
    "# Saddle Points Exercises - Hard"
   ]
  },
  {
   "cell_type": "markdown",
   "id": "5bb5acac",
   "metadata": {},
   "source": [
    "## Task\n",
    "Implement gradient descent with random perturbations to escape the saddle point of $f(x, y) = x^4 - y^4 - 2x^2 + 2y^2$."
   ]
  },
  {
   "cell_type": "code",
   "execution_count": null,
   "id": "5da3376a",
   "metadata": {},
   "outputs": [],
   "source": [
    "import numpy as np\n",
    "\n",
    "def f(x, y):\n",
    "    return x**4 - y**4 - 2*x**2 + 2*y**2\n",
    "\n",
    "def grad(x, y):\n",
    "    return np.array([4*x**3 - 4*x, -4*y**3 + 4*y])\n",
    "\n",
    "np.random.seed(0)\n",
    "pt = np.random.randn(2) * 0.1\n",
    "eta = 0.01\n",
    "for i in range(1000):\n",
    "    g = grad(*pt)\n",
    "    if np.linalg.norm(g) < 1e-3:\n",
    "        pt += 0.1 * np.random.randn(2)\n",
    "    pt -= eta * g\n",
    "pt"
   ]
  },
  {
   "cell_type": "markdown",
   "id": "4981995a",
   "metadata": {},
   "source": [
    "The random perturbations help the iterate move away from the saddle region."
   ]
  }
 ],
 "metadata": {
  "language_info": {
   "name": "python"
  }
 },
 "nbformat": 4,
 "nbformat_minor": 5
}
