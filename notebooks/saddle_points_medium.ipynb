{
 "cells": [
  {
   "cell_type": "markdown",
   "id": "095f21e0",
   "metadata": {},
   "source": [
    "# Saddle Points Exercises - Medium"
   ]
  },
  {
   "cell_type": "markdown",
   "id": "f64a7d64",
   "metadata": {},
   "source": [
    "## Task\n",
    "Locate the saddle points of $f(x, y) = x^3 - 3 x y^2$ using first- and second-order conditions."
   ]
  },
  {
   "cell_type": "code",
   "execution_count": null,
   "id": "0aaa085a",
   "metadata": {},
   "outputs": [],
   "source": [
    "import sympy as sp\n",
    "x, y = sp.symbols('x y')\n",
    "f = x**3 - 3*x*y**2\n",
    "# First-order conditions\n",
    "fx = sp.diff(f, x)\n",
    "fy = sp.diff(f, y)\n",
    "crit_points = sp.solve((fx, fy), (x, y))\n",
    "# Evaluate Hessian at critical points\n",
    "H = sp.hessian(f, (x, y))\n",
    "crit_points, [H.subs({x: cp[0], y: cp[1]}) for cp in crit_points]"
   ]
  },
  {
   "cell_type": "markdown",
   "id": "596de599",
   "metadata": {},
   "source": [
    "Only the origin satisfies the saddle point criteria for this function."
   ]
  }
 ],
 "metadata": {
  "language_info": {
   "name": "python"
  }
 },
 "nbformat": 4,
 "nbformat_minor": 5
}
