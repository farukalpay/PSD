{
  "cells": [
    {
      "cell_type": "markdown",
      "metadata": {},
      "source": [
        "# Notebook Navigation\n",
        "\n",
        "Select a notebook to continue:"
      ]
    },
    {
      "cell_type": "markdown",
      "metadata": {},
      "source": [
        "- [10-minute start](10_minute_start.ipynb)\n",
        "- [Advanced usage](advanced_usage.ipynb)"
      ]
    }
  ],
  "metadata": {
    "kernelspec": {
      "display_name": "Python 3",
      "language": "python",
      "name": "python3"
    },
    "language_info": {
      "name": "python"
    }
  },
  "nbformat": 4,
  "nbformat_minor": 5
}