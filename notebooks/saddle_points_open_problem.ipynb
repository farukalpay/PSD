{
 "cells": [
  {
   "cell_type": "markdown",
   "id": "0c22937b",
   "metadata": {},
   "source": [
    "# Open Problem: Topological Perspective on Saddle Points"
   ]
  },
  {
   "cell_type": "markdown",
   "id": "ebacb1a0",
   "metadata": {},
   "source": [
    "Understanding how saddle points shape the topology of loss landscapes is an open problem.\n",
    "\n",
    "**Open Question:** Can tools from topology (e.g., Morse theory) fully characterize when non-convex objectives have no spurious minima, explaining the apparent ease of training deep networks?\n",
    "\n",
    "This perspective seeks connections between critical point structure and the connectivity of sub-level sets, which remains poorly understood."
   ]
  }
 ],
 "metadata": {
  "language_info": {
   "name": "python"
  }
 },
 "nbformat": 4,
 "nbformat_minor": 5
}
