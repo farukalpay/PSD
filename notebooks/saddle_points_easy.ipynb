{
 "cells": [
  {
   "cell_type": "markdown",
   "id": "463656e0",
   "metadata": {},
   "source": [
    "# Saddle Points Exercises - Easy"
   ]
  },
  {
   "cell_type": "markdown",
   "id": "677412cf",
   "metadata": {},
   "source": [
    "## Task\n",
    "Compute the gradient and Hessian of $f(x, y) = x^2 - y^2$ and verify that $(0,0)$ is a saddle point."
   ]
  },
  {
   "cell_type": "code",
   "execution_count": null,
   "id": "877f42c3",
   "metadata": {},
   "outputs": [],
   "source": [
    "import sympy as sp\n",
    "x, y = sp.symbols('x y')\n",
    "f = x**2 - y**2\n",
    "# gradient\n",
    "grad = [sp.diff(f, var) for var in (x, y)]\n",
    "# Hessian matrix\n",
    "grad, sp.hessian(f, (x, y))"
   ]
  },
  {
   "cell_type": "markdown",
   "id": "7f2654a1",
   "metadata": {},
   "source": [
    "The eigenvalues of the Hessian have opposite signs, confirming the point is a saddle point."
   ]
  }
 ],
 "metadata": {
  "language_info": {
   "name": "python"
  }
 },
 "nbformat": 4,
 "nbformat_minor": 5
}
